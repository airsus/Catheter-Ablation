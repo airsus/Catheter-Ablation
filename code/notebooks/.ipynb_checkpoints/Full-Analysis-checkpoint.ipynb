{
 "cells": [
  {
   "cell_type": "markdown",
   "metadata": {},
   "source": [
    "<h1>Modeling and Control of an Intracardiac Catheter</h1>\n",
    "<p>Daniel Newman <br>\n",
    "<a href=\"mailto:danielnewman09@gmail.com\">danielnewman09@gmail.com</a> <br>\n",
    "<a href=\"http://danielnewman09.github.io\">http://danielnewman09.github.io</a> <br>"
   ]
  },
  {
   "cell_type": "markdown",
   "metadata": {},
   "source": [
    "This notebook demonstrates the entire modeling and control process for the intracardiac catheter problem. Its structure is generally broken down as follows:\n",
    "\n",
    "1. Define necessary functions to calculate forces and rotate elements into a global coordinate frame\n",
    "2. Define and generate a model based on user-defined parameters\n",
    "3. Define and generate the response of this model using PD control\n",
    "4. Plot the responses\n",
    "5. Create and show an animation demonstrating the motion of the model"
   ]
  },
  {
   "cell_type": "code",
   "execution_count": 4,
   "metadata": {
    "collapsed": true
   },
   "outputs": [],
   "source": [
    "import numpy as np\n",
    "from sympy import symbols\n",
    "from sympy.physics import mechanics\n",
    "from sympy.physics.mechanics import dynamicsymbols\n",
    "import sympy.physics.mechanics as me\n",
    "from sympy.physics.mechanics import inertia\n",
    "from scipy import integrate\n",
    "from sympy import Dummy, lambdify\n",
    "from scipy.integrate import odeint\n",
    "from sympy import Matrix"
   ]
  },
  {
   "cell_type": "code",
   "execution_count": 5,
   "metadata": {
    "collapsed": true
   },
   "outputs": [],
   "source": [
    "import crawlab_toolbox.utilities as craw_utils\n",
    "import crawlab_toolbox.plotting as plot\n",
    "\n",
    "%matplotlib inline\n",
    "# We will use matplotlib to \n",
    "from matplotlib import pyplot as plt\n",
    "import matplotlib as mpl\n",
    "from matplotlib import animation, rc\n",
    "from IPython.display import HTML\n",
    "from matplotlib.animation import writers"
   ]
  },
  {
   "cell_type": "code",
   "execution_count": 6,
   "metadata": {
    "collapsed": true
   },
   "outputs": [],
   "source": [
    "def body_rotation(coords,angle):\n",
    "    def R_z(theta):\n",
    "        rotation = np.zeros([len(theta),2,2])\n",
    "        rotation[:,0,0] = np.cos(theta)\n",
    "        rotation[:,0,1] = -np.sin(theta)\n",
    "        rotation[:,1,0] = np.sin(theta)\n",
    "        rotation[:,1,1] = np.cos(theta)\n",
    "        return rotation\n",
    "\n",
    "    rotated_coords = np.matmul(R_z(angle[:]), coords)\n",
    "    \n",
    "    x = rotated_coords[:,0,0]\n",
    "    y = rotated_coords[:,1,0]\n",
    "\n",
    "\n",
    "    return x,y\n",
    "\n",
    "\n",
    "def get_xy_coords(n,p, L):\n",
    "    \"\"\"Get (x, y) coordinates from generalized coordinates p\"\"\"\n",
    "    p = np.atleast_2d(p)\n",
    "\n",
    "    lengths = np.concatenate([np.broadcast_to(L / n,n)])\n",
    "    zeros = np.zeros(p.shape[0])[:, None]\n",
    "\n",
    "    x = np.hstack([zeros])\n",
    "    y = np.hstack([zeros])\n",
    "\n",
    "    for i in range(0,n):\n",
    "\n",
    "        x_app,y_app = body_rotation(np.array([[lengths[i]],[0]]),p[:,i])\n",
    "        x = np.append(x,np.atleast_2d(x_app).T,axis=1)\n",
    "        y = np.append(y,np.atleast_2d(y_app).T,axis=1)\n",
    "\n",
    "    return np.cumsum(x, 1), np.cumsum(y, 1)\n",
    "\n",
    "def get_xy_deriv(n,p, L):\n",
    "    \"\"\"Get (x, y) coordinates from generalized coordinates p\"\"\"\n",
    "    p = np.atleast_2d(p)\n",
    "\n",
    "    lengths = np.concatenate([np.broadcast_to(L / n,n)])\n",
    "    zeros = np.zeros(p.shape[0])[:, None]\n",
    "\n",
    "    x_dot = np.hstack([zeros])\n",
    "    y_dot = np.hstack([zeros])\n",
    "\n",
    "    for i in range(0,n):\n",
    "\n",
    "        x_app = -lengths[i] * np.sin(p[:,i]) * p[:,i + (n)]\n",
    "        y_app = lengths[i] * np.cos(p[:,i]) * p[:,i + (n)]\n",
    "\n",
    "        x_dot = np.append(x_dot,np.atleast_2d(x_app).T,axis=1)\n",
    "        y_dot = np.append(y_dot,np.atleast_2d(y_app).T,axis=1)\n",
    "\n",
    " \n",
    "    return np.cumsum(x_dot, 1), np.cumsum(y_dot, 1)"
   ]
  },
  {
   "cell_type": "code",
   "execution_count": 7,
   "metadata": {
    "collapsed": true
   },
   "outputs": [],
   "source": [
    "def force(coords,r):\n",
    "    ''' Get the force resulting from steady flow on a cylinder in two dimensions'''\n",
    "    \n",
    "    # Flow field velocity\n",
    "    u_y = 0.1 # m/s\n",
    "    \n",
    "    #  Drag coefficient\n",
    "    Cd = 1.2 \n",
    "    \n",
    "    # Mass density of blood\n",
    "    rho_blood = 1060 # kg/m^3\n",
    "    \n",
    "    # Diameter of the catheter\n",
    "    Diam = 2.667e-3 # m\n",
    "    \n",
    "    # Length projected into the X-axis\n",
    "    projected_length = r[0]\n",
    "    \n",
    "    # Drag force\n",
    "    F_dy = 0.5 * u_y * rho_blood * Cd * Diam * projected_length\n",
    "    \n",
    "    # Ignoring forces in the x-direction for now\n",
    "    f_x = 0.\n",
    "\n",
    "    return np.array([[f_x],[F_dy]])\n",
    "\n",
    "def get_forces(n,q,L):\n",
    "\n",
    "    x,y = get_xy_coords(n,q,L)\n",
    "\n",
    "    # For each origin point of each link, integrate the cross product of the \n",
    "    # position vector for the link with the  force converted into the link frame.\n",
    "    # Return the torques in a way that can be added to the state variables when\n",
    "    # integrating\n",
    "\n",
    "    tau = np.zeros(n)\n",
    "\n",
    "    for i in range(n):\n",
    "        \n",
    "        angles = np.atleast_2d(q[i])\n",
    "\n",
    "        frame_origin = np.array([[x[0,i]],\n",
    "                                 [y[0,i]]])\n",
    "\n",
    "        # Direction vector pointing along the X-direction of the desired link\n",
    "        # This vector is defined in the global coordinate frame\n",
    "        r = np.array([[x[0,i] - x[0,i-1]],\n",
    "                      [y[0,i] - y[0,i-1]]])\n",
    "\n",
    "        # Unit vector pointing in the direction aligned with the link\n",
    "        # This vector is divided by L, which is the magnitude of r\n",
    "        u = r / L\n",
    "        \n",
    "        # Get the projected force on the element at position \"x\"\n",
    "        proj_force = lambda x: body_rotation(force(x * u + frame_origin,r),-angles)\n",
    "        \n",
    "        # Compute the torque applied by the force at position \"x\"\n",
    "        torquez = lambda x: np.cross(np.array([x,0]),np.array([proj_force(x)]).flatten())\n",
    "        \n",
    "        # The total torque applied to the element is the integral of the torque\n",
    "        # across its length\n",
    "        torques = np.array([integrate.quad(torquez,0,L)[0]])\n",
    "\n",
    "        tau[i] = torques\n",
    "        \n",
    "    return tau"
   ]
  },
  {
   "cell_type": "code",
   "execution_count": 8,
   "metadata": {
    "collapsed": true
   },
   "outputs": [],
   "source": [
    "def derive_sys(n,p):\n",
    "    \"\"\"Derive the equations of motion using Kane's method\"\"\"\n",
    "    #-------------------------------------------------\n",
    "    # Step 1: construct the catheter model\n",
    "    \n",
    "    # Generalized coordinates and velocities\n",
    "    # (in this case, angular positions & velocities of each mass) \n",
    "    q = mechanics.dynamicsymbols('q:{0}'.format(n))\n",
    "    u = mechanics.dynamicsymbols('u:{0}'.format(n))\n",
    "    \n",
    "    # Torques applied to each element due to external loads\n",
    "    Torque = dynamicsymbols('tau:{0}'.format(n))\n",
    "    \n",
    "    # Force applied at the end of the catheter by the user\n",
    "    F_in = dynamicsymbols('F:{0}'.format(1))\n",
    "\n",
    "    # Unpack the system values\n",
    "    M, L, E, I, G, J = p\n",
    "    \n",
    "    # Structural damping \n",
    "    damp = 0.05\n",
    "\n",
    "    # mass and length\n",
    "    m = symbols('m:{0}'.format(n))\n",
    "    l = symbols('l:{0}'.format(n))\n",
    "\n",
    "    # time symbol\n",
    "    t = symbols('t')\n",
    "    \n",
    "    # The stiffness of the internal springs simulating material stiffness\n",
    "    stiffness = E * I\n",
    "    \n",
    "    #--------------------------------------------------\n",
    "    # Step 2: build the model using Kane's Method\n",
    "\n",
    "    # Create pivot point reference frame\n",
    "    A = mechanics.ReferenceFrame('A')\n",
    "    P = mechanics.Point('P')\n",
    "    P.set_vel(A,0)\n",
    "\n",
    "    # lists to hold particles, forces, and kinetic ODEs\n",
    "    # for each pendulum in the chain\n",
    "    particles = []\n",
    "    forces = []\n",
    "    kinetic_odes = []\n",
    "    \n",
    "    # Create a rotated reference frame for the first rigid link\n",
    "    Ar = A.orientnew('A' + str(0), 'axis', [q[0],A.z])\n",
    "\n",
    "    # Create a point at the center of gravity of the first link\n",
    "    Gr = P.locatenew('G' + str(0),(l[0] / 2) * Ar.x)\n",
    "    Gr.v2pt_theory(P,A,Ar)\n",
    "    \n",
    "    # Create a point at the end of the link\n",
    "    Pr = P.locatenew('P' + str(0), l[0] * Ar.x)\n",
    "    Pr.v2pt_theory(P, A, Ar)   \n",
    "\n",
    "    # Create the inertia for the first rigid link\n",
    "    Inertia_r = inertia(Ar,0,0,m[0] * l[0]**2 / 12)\n",
    "\n",
    "    # Create a new particle of mass m[i] at this point\n",
    "    Par = mechanics.RigidBody('Pa' + str(0), Gr, Ar, m[0], (Inertia_r,Gr))\n",
    "    particles.append(Par)\n",
    "    \n",
    "    # Add an internal spring based on Euler-Bernoulli Beam theory\n",
    "    forces.append((Ar, -stiffness * (q[0]) / (l[0]) * Ar.z))\n",
    "    \n",
    "    # Add a damping term\n",
    "    forces.append((Ar, (-damp * u[0]) * Ar.z))\n",
    "    \n",
    "    # Add a new ODE term\n",
    "    kinetic_odes.append(q[0].diff(t) - u[0])\n",
    "    \n",
    "    P = Pr\n",
    "    \n",
    "    for i in range(1,n):\n",
    "        \n",
    "        # Create a reference frame following the i^th link\n",
    "        Ai = A.orientnew('A' + str(i), 'Axis', [q[i],Ar.z])\n",
    "        Ai.set_ang_vel(A, u[i] * Ai.z)\n",
    "        \n",
    "        # Set the center of gravity for this link\n",
    "        Gi = P.locatenew('G' + str(i),l[i] / 2 * Ai.x)\n",
    "        Gi.v2pt_theory(P,A,Ai)\n",
    "\n",
    "        # Create a point in this reference frame\n",
    "        Pi = P.locatenew('P' + str(i), l[i] * Ai.x)\n",
    "        Pi.v2pt_theory(P, A, Ai)\n",
    "        \n",
    "        # Set the inertia for this link\n",
    "        Inertia_i = inertia(Ai,0,0,m[i] * l[i]**2 / 12)\n",
    "\n",
    "        # Create a new particle of mass m[i] at this point\n",
    "        Pai = mechanics.RigidBody('Pa' + str(i), Gi, Ai, m[i], (Inertia_i,Gi))\n",
    "        particles.append(Pai)\n",
    "        \n",
    "        # The external torques influence neighboring links\n",
    "        if i + 1 < n:\n",
    "            next_torque = Torque[i+1]\n",
    "        else:\n",
    "            next_torque = 0.\n",
    "        forces.append((Ai,(Torque[i] - next_torque) * Ai.z))\n",
    "        \n",
    "        # Add another internal spring\n",
    "        forces.append((Ai, (-stiffness * (q[i] - q[i-1]) / (2 * l[i])) * Ai.z))\n",
    "        \n",
    "        # Add the damping term\n",
    "        forces.append((Ai, (-damp * u[i]) * Ai.z))\n",
    "\n",
    "        kinetic_odes.append(q[i].diff(t) - u[i])\n",
    "\n",
    "        P = Pi\n",
    "    \n",
    "    # Add the user-defined input at the tip of the catheter, pointing normal to the \n",
    "    # last element\n",
    "    forces.append((P, F_in[0] * Ai.y))\n",
    "\n",
    "    # Generate equations of motion\n",
    "    KM = mechanics.KanesMethod(A, q_ind=q, u_ind=u,\n",
    "                               kd_eqs=kinetic_odes)\n",
    "    fr, fr_star = KM.kanes_equations(forces, particles)\n",
    "\n",
    "    return KM, fr, fr_star, q, u, Torque, F_in, l, m"
   ]
  },
  {
   "cell_type": "code",
   "execution_count": 9,
   "metadata": {
    "collapsed": true
   },
   "outputs": [],
   "source": [
    "n = 3\n",
    "\n",
    "M = 1\n",
    "L = 1\n",
    "E = 10e-3\n",
    "I = 1\n",
    "G = 0.5\n",
    "J = 1\n",
    "\n",
    "\n",
    "theta0_z = 0.\n",
    "\n",
    "theta0dot_z = 0.\n",
    "\n",
    "thetad_z = 50.\n",
    "thetaddot_z = 0.\n",
    "\n",
    "tau_max = 200.\n",
    "StartTime = 0. \n",
    "dt = 0.01\n",
    "t = np.arange(0,10,dt)\n",
    "\n",
    "X0 = np.array([theta0_z,theta0dot_z])\n",
    "XD = np.array([thetad_z,thetaddot_z])\n",
    "Distance = np.deg2rad(XD - X0)\n",
    "\n",
    "p = [M, L, E, I, G, J]"
   ]
  },
  {
   "cell_type": "code",
   "execution_count": 10,
   "metadata": {
    "collapsed": true
   },
   "outputs": [],
   "source": [
    "Kane = derive_sys(n,p)\n",
    "KM, fr, fr_star, q, u, tau, force_in, l, m = Kane"
   ]
  },
  {
   "cell_type": "code",
   "execution_count": 11,
   "metadata": {
    "collapsed": true
   },
   "outputs": [],
   "source": [
    "lengths = np.concatenate([np.broadcast_to(L / n,n)])    \n",
    "masses = np.concatenate([np.broadcast_to(M / n,n)])\n",
    "\n",
    "# Fixed parameters: lengths, and masses\n",
    "parameters = list(l) + list(m)\n",
    "parameter_vals = list(lengths) + list(masses)"
   ]
  },
  {
   "cell_type": "code",
   "execution_count": 12,
   "metadata": {
    "collapsed": true
   },
   "outputs": [],
   "source": [
    "# define symbols for unknown parameters\n",
    "unknowns = [Dummy() for i in q + u + tau + list(force_in)]\n",
    "unknown_dict = dict(zip(q + u + tau + list(force_in), unknowns))\n",
    "kds = KM.kindiffdict()"
   ]
  },
  {
   "cell_type": "code",
   "execution_count": 13,
   "metadata": {
    "collapsed": true
   },
   "outputs": [],
   "source": [
    "# substitute unknown symbols for qdot terms\n",
    "mm_sym = KM.mass_matrix_full.subs(kds).subs(unknown_dict)\n",
    "fo_sym = KM.forcing_full.subs(kds).subs(unknown_dict)"
   ]
  },
  {
   "cell_type": "code",
   "execution_count": 14,
   "metadata": {
    "collapsed": true
   },
   "outputs": [],
   "source": [
    "# create functions for numerical calculation \n",
    "mm_func = lambdify(unknowns + parameters, mm_sym)\n",
    "fo_func = lambdify(unknowns + parameters, fo_sym)"
   ]
  },
  {
   "cell_type": "code",
   "execution_count": 17,
   "metadata": {
    "collapsed": true
   },
   "outputs": [],
   "source": [
    "def get_response(n,Kane,p,optimize=False,use_control=True):\n",
    "    KM, fr, fr_star, q, u, tau, force_in, l, m = Kane\n",
    "    \n",
    "    tau_max, StartTime, dt, t, X0, Distance, L = p\n",
    "   \n",
    "    q_i = np.array(X0[:n])\n",
    "    u_i = np.array(X0[n:])\n",
    "\n",
    "    # initial positions and velocities – assumed to be given in degrees\n",
    "    y0 = np.concatenate([np.tile(q_i,n),np.tile(u_i,n)])\n",
    "    \n",
    "    tau = np.zeros(n)\n",
    "    \n",
    "    y_d = craw_utils.s_curve(t,0.5,5,StartTime=0.)\n",
    "    \n",
    "    # function which computes the derivatives of parameters\n",
    "    def gradient(x, currtime, parameter_vals,t_sys,tau,force_in):\n",
    "\n",
    "        y_ref = np.interp(currtime,t_sys,y_d)\n",
    "        \n",
    "        curr_x,curr_y = get_xy_coords(n,x,L)\n",
    "        curr_x_dot,curr_y_dot = get_xy_deriv(n,x,L)     \n",
    "        \n",
    "        if use_control:\n",
    "            force_in[0] = 100. * (y_ref - curr_y[0,-1]) + 50 * (0 - curr_y_dot[0,-1])\n",
    "        \n",
    "        tau = get_forces(n,x,L)\n",
    "\n",
    "        vals = np.concatenate((x, tau, force_in, parameter_vals))\n",
    "        sol = np.linalg.solve(mm_func(*vals), fo_func(*vals))\n",
    "\n",
    "        return np.array(sol).T[0]\n",
    "\n",
    "    return odeint(gradient, y0, t, args=(parameter_vals,t,tau, force_in))"
   ]
  },
  {
   "cell_type": "code",
   "execution_count": 18,
   "metadata": {},
   "outputs": [],
   "source": [
    "p_response = [tau_max, StartTime, dt, t, X0, Distance, L]\n",
    "\n",
    "response = get_response(n,Kane,p_response)"
   ]
  },
  {
   "cell_type": "code",
   "execution_count": 19,
   "metadata": {
    "collapsed": true
   },
   "outputs": [],
   "source": [
    "uncontrolled_response = get_response(n,Kane,p_response,use_control=False)"
   ]
  },
  {
   "cell_type": "code",
   "execution_count": 21,
   "metadata": {},
   "outputs": [
    {
     "data": {
      "image/png": "[encoded data removed]",
      "text/plain": [
       "<matplotlib.figure.Figure at 0x10e8bc5f8>"
      ]
     },
     "metadata": {},
     "output_type": "display_data"
    }
   ],
   "source": [
    "plot.generate_plot(t,\n",
    "              np.vstack((response[:,n-1],uncontrolled_response[:,n-1])),\n",
    "              ['Controlled','Uncontrolled'],\n",
    "              'Time (s)',\n",
    "              'Angle (rad)',\n",
    "              filename='x_Rotation',\n",
    "              folder='Simulations/',\n",
    "              num_col=2,legend_loc='upper center',ymax=0.5,showplot=True)"
   ]
  },
  {
   "cell_type": "code",
   "execution_count": 107,
   "metadata": {
    "collapsed": true
   },
   "outputs": [],
   "source": [
    "#plt.rcParams[\"animation.html\"] = \"jshtml\"\n",
    "plt.rcParams['figure.figsize'] = (5,3)\n",
    "plt.rcParams['figure.dpi'] = 100\n",
    "animation.rcParams['animation.writer'] = 'ffmpeg'"
   ]
  },
  {
   "cell_type": "code",
   "execution_count": 22,
   "metadata": {},
   "outputs": [
    {
     "data": {
      "image/png": "[encoded data removed]",
      "text/plain": [
       "<matplotlib.figure.Figure at 0x102f95320>"
      ]
     },
     "metadata": {},
     "output_type": "display_data"
    },
    {
     "data": {
      "image/png": "[encoded data removed]",
      "text/plain": [
       "<matplotlib.figure.Figure at 0x102f95a58>"
      ]
     },
     "metadata": {},
     "output_type": "display_data"
    }
   ],
   "source": [
    "x,y = get_xy_coords(n,response, L)\n",
    "x_uncontrolled,y_uncontrolled = get_xy_coords(n,uncontrolled_response, L)\n",
    "\n",
    "x_tip = x[:,-1]\n",
    "y_tip = y[:,-1]\n",
    "\n",
    "x_tip_uncontrolled = x_uncontrolled[:,-1]\n",
    "y_tip_uncontrolled = y_uncontrolled[:,-1]\n",
    "\n",
    "plot.generate_plot(t,\n",
    "              np.vstack((x_tip,x_tip_uncontrolled)),\n",
    "              ['Controlled','Uncontrolled'],\n",
    "              'Time (s)',\n",
    "              'Position (m)',\n",
    "              filename='x_Tip',\n",
    "              folder='Simulations/',\n",
    "              num_col=2,legend_loc='upper center',ymax=0.3,showplot=True)\n",
    "\n",
    "plot.generate_plot(t,\n",
    "              np.vstack((y_tip,y_tip_uncontrolled)),\n",
    "              ['Controlled','Uncontrolled'],\n",
    "              'Time (s)',\n",
    "              'Position (m)',\n",
    "              filename='y_Tip',\n",
    "              folder='Simulations/',\n",
    "              num_col=2,legend_loc='upper center',ymax=0.3,showplot=True)"
   ]
  },
  {
   "cell_type": "code",
   "execution_count": 27,
   "metadata": {},
   "outputs": [],
   "source": [
    "%%capture\n",
    "fps = int(np.round(1 / dt))\n",
    "\n",
    "def update_lines(num, x,y, lines):\n",
    "    lines.set_data(x[num],y[num])\n",
    "    #lines.set_3d_properties(z[num])\n",
    "    return lines\n",
    "\n",
    "# Attaching 3D axis to the figure\n",
    "fig = plt.figure()\n",
    "ax = plt.gca()\n",
    "\n",
    "lines, = ax.plot([], [], 'o-', lw=2)\n",
    "\n",
    "plt.axes().set_aspect('equal')\n",
    "data = np.array([x,y])\n",
    "\n",
    "# Setting the axes properties\n",
    "ax.set_xlim([-1, 1.0])\n",
    "ax.set_xlabel('X')\n",
    "\n",
    "ax.set_ylim([-1, 1])\n",
    "ax.set_ylabel('Y')\n",
    "\n",
    "ax.set_title('Controlled Response')\n",
    "\n",
    "\n",
    "# Create the animation\n",
    "anim = animation.FuncAnimation(\n",
    "                    fig, # Use the predefined figure\n",
    "                    update_lines, # Call the update function\n",
    "                    frames=fps * int(np.amax(t)), # Use a number of frames based on the framerate and length of the time array\n",
    "                    interval=fps,\n",
    "                    fargs = (x,y,lines),\n",
    "                    blit=False)"
   ]
  },
  {
   "cell_type": "code",
   "execution_count": 28,
   "metadata": {
    "collapsed": true
   },
   "outputs": [],
   "source": [
    "FFMpegWriter = writers['ffmpeg']\n",
    "\n",
    "# We can also add some metadata to the video.\n",
    "metadata = dict(title='Input Shaping Animation', artist='CRAWLAB',\n",
    "                comment='Shows a point-to-poitn move of a planar crane with and without input shaping.')\n",
    "\n",
    "# Change the video bitrate as you like and add some metadata.\n",
    "writer = FFMpegWriter(codec=\"h264\", fps=fps, bitrate=-1, metadata=metadata)\n",
    "\n",
    "anim.save(\n",
    "    'animation.mp4', # Set the file name\n",
    "    dpi=240,          # Bump up to 4K resolution 3840x2160\n",
    "    writer=writer,\n",
    "    savefig_kwargs={\n",
    "                'transparent': False, # h264 doesn't seem to like transparency \n",
    "                'facecolor': 'none'})"
   ]
  },
  {
   "cell_type": "code",
   "execution_count": 29,
   "metadata": {},
   "outputs": [
    {
     "data": {
      "text/html": [
       "\n",
       "<div align=\"middle\">\n",
       "<video width=\"80%\" controls>\n",
       "      <source src=\"animation.mp4\" type=\"video/mp4\">\n",
       "</video></div>"
      ],
      "text/plain": [
       "<IPython.core.display.HTML object>"
      ]
     },
     "execution_count": 29,
     "metadata": {},
     "output_type": "execute_result"
    }
   ],
   "source": [
    "HTML(\"\"\"\n",
    "<div align=\"middle\">\n",
    "<video width=\"80%\" controls>\n",
    "      <source src=\"animation.mp4\" type=\"video/mp4\">\n",
    "</video></div>\"\"\")"
   ]
  },
  {
   "cell_type": "code",
   "execution_count": 1,
   "metadata": {},
   "outputs": [
    {
     "data": {
      "text/html": [
       "<script>\n",
       "    MathJax.Hub.Config({\n",
       "                        TeX: {\n",
       "                           extensions: [\"AMSmath.js\"]\n",
       "                           },\n",
       "                tex2jax: {\n",
       "                    inlineMath: [ ['$','$'], [\"\\\\(\",\"\\\\)\"] ],\n",
       "                    displayMath: [ ['$$','$$'], [\"\\\\[\",\"\\\\]\"] ]\n",
       "                },\n",
       "                displayAlign: 'center', // Change this to 'center' to center equations.\n",
       "                \"HTML-CSS\": {\n",
       "                    styles: {'.MathJax_Display': {\"margin\": 4}}\n",
       "                }\n",
       "        });\n",
       "</script>\n",
       "\n",
       "<style>\n",
       "    @font-face {\n",
       "        font-family: \"Computer Modern\";\n",
       "        src: url('http://mirrors.ctan.org/fonts/cm-unicode/fonts/otf/cmunss.otf');\n",
       "    }\n",
       "    @font-face {\n",
       "        font-family: \"Computer Modern\";\n",
       "        src: url('http://mirrors.ctan.org/fonts/cm-unicode/fonts/otf/cmunsx.otf');\n",
       "        font-weight: bold;\n",
       "    }\n",
       "    @font-face {\n",
       "        font-family: \"Computer Modern\";\n",
       "        src: url('http://mirrors.ctan.org/fonts/cm-unicode/fonts/otf/cmunsi.otf');\n",
       "        font-style: oblique;\n",
       "    }\n",
       "    @font-face {\n",
       "        font-family: \"Computer Modern\";\n",
       "        src: url('http://mirrors.ctan.org/fonts/cm-unicode/fonts/otf/cmunso.otf');\n",
       "        font-weight: bold;\n",
       "        font-style: oblique;\n",
       "    }\n",
       "\n",
       "    div.cell {\n",
       "        max-width: 1100px;\n",
       "    }\n",
       "    \n",
       "    h1 {\n",
       "        font-family: Computer Modern;\n",
       "    }\n",
       "    \n",
       "    h4 {\n",
       "        margin-top: 12px;\n",
       "        margin-bottom: 3px;\n",
       "    }\n",
       "\n",
       "    div.text_cell_render {\n",
       "        font-family: Computer Modern, \"Helvetica Neue\", Arial, Helvetica, Geneva, sans-serif;\n",
       "        line-height: 145%;\n",
       "        font-size: 130%;\n",
       "        width: 100%;\n",
       "        max-width: 1100px;\n",
       "    }\n",
       "    \n",
       "    .CodeMirror {\n",
       "        font-family: \"Source Code Pro\", source-code-pro, Consolas, monospace;\n",
       "    }\n",
       "    \n",
       "    .warning {\n",
       "        color: rgb( 240, 20, 20 )\n",
       "    }  \n",
       "  \n",
       "   \n",
       "    hr.style-end {\n",
       "        border: 0px !important;\n",
       "        height: 1px !important;\n",
       "        text-align: center !important;\n",
       "        background: #333 !important;\n",
       "        background-image: -webkit-linear-gradient(left, #ccc, #333, #ccc) !important; \n",
       "        background-image:    -moz-linear-gradient(left, #ccc, #333, #ccc) !important; \n",
       "        background-image:     -ms-linear-gradient(left, #ccc, #333, #ccc) !important; \n",
       "        background-image:      -o-linear-gradient(left, #ccc, #333, #ccc) !important; \n",
       "    }\n",
       "\n",
       "    hr.style-end:after {\n",
       "        content: &#x269C !important;\n",
       "        left: 50% !important;\n",
       "        position: absolute !important;\n",
       "        /* Controls the whitespace around the symbol */\n",
       "        padding: 0px !important;\n",
       "        background: #fff !important;\n",
       "    }\n",
       "    .output_png {\n",
       "        display: table-cell;\n",
       "        text-align: center;\n",
       "        vertical-align: middle;\n",
       "    }\n",
       "    .ui-wrapper {\n",
       "        margin-left: auto !important;\n",
       "        margin-right: auto !important;\n",
       "    }    \n",
       "/*  Center figures, etc\n",
       "\n",
       "*/\n",
       "    \n",
       "</style>"
      ],
      "text/plain": [
       "<IPython.core.display.HTML object>"
      ]
     },
     "execution_count": 1,
     "metadata": {},
     "output_type": "execute_result"
    }
   ],
   "source": [
    "# This cell will just improve the styling of the notebook\n",
    "from IPython.core.display import HTML\n",
    "import urllib.request\n",
    "response = urllib.request.urlopen(\"https://raw.githubusercontent.com/danielnewman09/Thesis-Notebooks/master/Styling/IpythonNotebook.css\")\n",
    "HTML(response.read().decode(\"utf-8\"))"
   ]
  },
  {
   "cell_type": "code",
   "execution_count": null,
   "metadata": {
    "collapsed": true
   },
   "outputs": [],
   "source": []
  },
  {
   "cell_type": "code",
   "execution_count": null,
   "metadata": {
    "collapsed": true
   },
   "outputs": [],
   "source": []
  }
 ],
 "metadata": {
  "kernelspec": {
   "display_name": "Python 3",
   "language": "python",
   "name": "python3"
  },
  "language_info": {
   "codemirror_mode": {
    "name": "ipython",
    "version": 3
   },
   "file_extension": ".py",
   "mimetype": "text/x-python",
   "name": "python",
   "nbconvert_exporter": "python",
   "pygments_lexer": "ipython3",
   "version": "3.6.1"
  }
 },
 "nbformat": 4,
 "nbformat_minor": 2
}
