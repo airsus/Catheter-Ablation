{
 "cells": [
  {
   "cell_type": "markdown",
   "metadata": {},
   "source": [
    "<h1>Modeling and Control of an Intracardiac Catheter</h1>\n",
    "<p>Daniel Newman <br>\n",
    "<a href=\"mailto:danielnewman09@gmail.com\">danielnewman09@gmail.com</a> <br>\n",
    "<a href=\"http://danielnewman09.github.io\">http://danielnewman09.github.io</a> <br>"
   ]
  },
  {
   "cell_type": "markdown",
   "metadata": {},
   "source": [
    "This notebook demonstrates the entire modeling and control process for the intracardiac catheter problem. Its structure is generally broken down as follows:\n",
    "\n",
    "1. Define necessary functions to calculate forces and rotate elements into a global coordinate frame\n",
    "2. Define and generate a model based on user-defined parameters\n",
    "3. Define and generate the response of this model using PD control\n",
    "4. Plot the responses\n",
    "5. Create and show an animation demonstrating the motion of the model"
   ]
  },
  {
   "cell_type": "code",
   "execution_count": 92,
   "metadata": {
    "collapsed": true
   },
   "outputs": [],
   "source": [
    "import numpy as np\n",
    "from sympy import symbols\n",
    "from sympy.physics import mechanics\n",
    "from sympy.physics.mechanics import dynamicsymbols\n",
    "import sympy.physics.mechanics as me\n",
    "from sympy.physics.mechanics import inertia\n",
    "from scipy import integrate\n",
    "from sympy import Dummy, lambdify\n",
    "from scipy.integrate import odeint\n",
    "from sympy import Matrix\n",
    "import cvxpy as cvx\n",
    "import control"
   ]
  },
  {
   "cell_type": "code",
   "execution_count": 2,
   "metadata": {
    "collapsed": true
   },
   "outputs": [],
   "source": [
    "import crawlab_toolbox.utilities as craw_utils\n",
    "import crawlab_toolbox.plotting as plot\n",
    "\n",
    "%matplotlib inline\n",
    "# We will use matplotlib to \n",
    "from matplotlib import pyplot as plt\n",
    "import matplotlib as mpl\n",
    "from matplotlib import animation, rc\n",
    "from IPython.display import HTML\n",
    "from matplotlib.animation import writers"
   ]
  },
  {
   "cell_type": "code",
   "execution_count": 18,
   "metadata": {
    "collapsed": true
   },
   "outputs": [],
   "source": [
    "def body_rotation(coords,angle):\n",
    "    def R_z(theta):\n",
    "        rotation = np.zeros([len(theta),2,2])\n",
    "        rotation[:,0,0] = np.cos(theta)\n",
    "        rotation[:,0,1] = -np.sin(theta)\n",
    "        rotation[:,1,0] = np.sin(theta)\n",
    "        rotation[:,1,1] = np.cos(theta)\n",
    "        return rotation\n",
    "\n",
    "    rotated_coords = np.matmul(R_z(angle[:]), coords)\n",
    "    \n",
    "    x = rotated_coords[:,0,0]\n",
    "    y = rotated_coords[:,1,0]\n",
    "\n",
    "\n",
    "    return x,y\n",
    "\n",
    "\n",
    "def get_xy_coords(n,p, L):\n",
    "    \"\"\"Get (x, y) coordinates from generalized coordinates p\"\"\"\n",
    "    p = np.atleast_2d(p)\n",
    "\n",
    "    lengths = np.concatenate([np.broadcast_to(L / n,n)])\n",
    "    zeros = np.zeros(p.shape[0])[:, None]\n",
    "\n",
    "    x = np.hstack([zeros])\n",
    "    y = np.hstack([zeros])\n",
    "\n",
    "    for i in range(0,n):\n",
    "\n",
    "        x_app,y_app = body_rotation(np.array([[lengths[i]],[0]]),p[:,i])\n",
    "        x = np.append(x,np.atleast_2d(x_app).T,axis=1)\n",
    "        y = np.append(y,np.atleast_2d(y_app).T,axis=1)\n",
    "\n",
    "    return np.cumsum(x, 1), np.cumsum(y, 1)\n",
    "\n",
    "def get_xy_deriv(n,p, L):\n",
    "    \"\"\"Get (x, y) coordinates from generalized coordinates p\"\"\"\n",
    "    p = np.atleast_2d(p)\n",
    "\n",
    "    lengths = np.concatenate([np.broadcast_to(L / n,n)])\n",
    "    zeros = np.zeros(p.shape[0])[:, None]\n",
    "\n",
    "    x_dot = np.hstack([zeros])\n",
    "    y_dot = np.hstack([zeros])\n",
    "\n",
    "    for i in range(0,n):\n",
    "\n",
    "        x_app = -lengths[i] * np.sin(p[:,i]) * p[:,i + (n)]\n",
    "        y_app = lengths[i] * np.cos(p[:,i]) * p[:,i + (n)]\n",
    "\n",
    "        x_dot = np.append(x_dot,np.atleast_2d(x_app).T,axis=1)\n",
    "        y_dot = np.append(y_dot,np.atleast_2d(y_app).T,axis=1)\n",
    "\n",
    " \n",
    "    return np.cumsum(x_dot, 1), np.cumsum(y_dot, 1)"
   ]
  },
  {
   "cell_type": "code",
   "execution_count": 83,
   "metadata": {
    "collapsed": true
   },
   "outputs": [],
   "source": [
    "def force(coords,r,time):\n",
    "    ''' Get the force resulting from steady flow on a cylinder in two dimensions'''\n",
    "    \n",
    "    # Flow field velocity\n",
    "    u_y = -0. * np.cos(0.*time) # m/s\n",
    "    \n",
    "    u_y = -0.3\n",
    "    \n",
    "    #  Drag coefficient\n",
    "    Cd = 1.2 \n",
    "    \n",
    "    # Mass density of blood\n",
    "    rho_blood = 1060 # kg/m^3\n",
    "    \n",
    "    # Diameter of the catheter\n",
    "    Diam = 2.667e-3 # m\n",
    "    \n",
    "    # Length projected into the X-axis\n",
    "    projected_length = r[0]\n",
    "    \n",
    "    # Drag force\n",
    "    F_dy = 0.5 * u_y * rho_blood * Cd * Diam * projected_length\n",
    "    \n",
    "    # Ignoring forces in the x-direction for now\n",
    "    f_x = 0.\n",
    "\n",
    "    return np.array([[f_x],[F_dy]])\n",
    "\n",
    "def get_forces(n,q,L,time=0.):\n",
    "\n",
    "    x,y = get_xy_coords(n,q,L)\n",
    "\n",
    "    # For each origin point of each link, integrate the cross product of the \n",
    "    # position vector for the link with the  force converted into the link frame.\n",
    "    # Return the torques in a way that can be added to the state variables when\n",
    "    # integrating\n",
    "\n",
    "    tau = np.zeros(n)\n",
    "    \n",
    "    L = L / n\n",
    "\n",
    "    for i in range(n):\n",
    "        \n",
    "        angles = np.atleast_2d(q[i])\n",
    "\n",
    "        frame_origin = np.array([[x[0,i]],\n",
    "                                 [y[0,i]]])\n",
    "\n",
    "        # Direction vector pointing along the X-direction of the desired link\n",
    "        # This vector is defined in the global coordinate frame\n",
    "        r = np.array([[x[0,i] - x[0,i-1]],\n",
    "                      [y[0,i] - y[0,i-1]]])\n",
    "\n",
    "        # Unit vector pointing in the direction aligned with the link\n",
    "        # This vector is divided by L, which is the magnitude of r\n",
    "        u = r / L\n",
    "        \n",
    "        # Get the projected force on the element at position \"x\"\n",
    "        proj_force = lambda x: body_rotation(force(x * u + frame_origin,r,time),-angles)\n",
    "        \n",
    "        # Compute the torque applied by the force at position \"x\"\n",
    "        torquez = lambda x: np.cross(np.array([x,0]),np.array([proj_force(x)]).flatten())\n",
    "\n",
    "        #torquez = lambda x: np.cross((x * u).flatten(),force(x * u + frame_origin,x * u).flatten())\n",
    "        \n",
    "        # The total torque applied to the element is the integral of the torque\n",
    "        # across its length\n",
    "        torques = np.array([integrate.quad(torquez,0,L)[0]])\n",
    "\n",
    "        tau[i] = torques\n",
    "        \n",
    "        \n",
    "    return tau"
   ]
  },
  {
   "cell_type": "code",
   "execution_count": 40,
   "metadata": {},
   "outputs": [
    {
     "data": {
      "text/plain": [
       "array([ 0.,  0.,  0.,  0.,  0.,  0.,  0.])"
      ]
     },
     "execution_count": 40,
     "metadata": {},
     "output_type": "execute_result"
    }
   ],
   "source": [
    "get_forces(7,np.zeros(14),1)"
   ]
  },
  {
   "cell_type": "code",
   "execution_count": 6,
   "metadata": {
    "collapsed": true
   },
   "outputs": [],
   "source": [
    "def derive_sys(n,p):\n",
    "    \"\"\"Derive the equations of motion using Kane's method\"\"\"\n",
    "    #-------------------------------------------------\n",
    "    # Step 1: construct the catheter model\n",
    "    \n",
    "    # Generalized coordinates and velocities\n",
    "    # (in this case, angular positions & velocities of each mass) \n",
    "    q = mechanics.dynamicsymbols('q:{0}'.format(n))\n",
    "    u = mechanics.dynamicsymbols('u:{0}'.format(n))\n",
    "    \n",
    "    # Torques applied to each element due to external loads\n",
    "    Torque = dynamicsymbols('tau:{0}'.format(n))\n",
    "    \n",
    "    # Force applied at the end of the catheter by the user\n",
    "    F_in = dynamicsymbols('F:{0}'.format(1))\n",
    "\n",
    "    # Unpack the system values\n",
    "    M, L, E, I, G, J = p\n",
    "    \n",
    "    # Structural damping \n",
    "    damp = 0.05\n",
    "\n",
    "    # mass and length\n",
    "    m = symbols('m:{0}'.format(n))\n",
    "    l = symbols('l:{0}'.format(n))\n",
    "\n",
    "    # time symbol\n",
    "    t = symbols('t')\n",
    "    \n",
    "    # The stiffness of the internal springs simulating material stiffness\n",
    "    stiffness = E * I\n",
    "    \n",
    "    #--------------------------------------------------\n",
    "    # Step 2: build the model using Kane's Method\n",
    "\n",
    "    # Create pivot point reference frame\n",
    "    A = mechanics.ReferenceFrame('A')\n",
    "    P = mechanics.Point('P')\n",
    "    P.set_vel(A,0)\n",
    "\n",
    "    # lists to hold particles, forces, and kinetic ODEs\n",
    "    # for each pendulum in the chain\n",
    "    particles = []\n",
    "    forces = []\n",
    "    kinetic_odes = []\n",
    "    \n",
    "    # Create a rotated reference frame for the first rigid link\n",
    "    Ar = A.orientnew('A' + str(0), 'axis', [q[0],A.z])\n",
    "\n",
    "    # Create a point at the center of gravity of the first link\n",
    "    Gr = P.locatenew('G' + str(0),(l[0] / 2) * Ar.x)\n",
    "    Gr.v2pt_theory(P,A,Ar)\n",
    "    \n",
    "    # Create a point at the end of the link\n",
    "    Pr = P.locatenew('P' + str(0), l[0] * Ar.x)\n",
    "    Pr.v2pt_theory(P, A, Ar)   \n",
    "\n",
    "    # Create the inertia for the first rigid link\n",
    "    Inertia_r = inertia(Ar,0,0,m[0] * l[0]**2 / 12)\n",
    "\n",
    "    # Create a new particle of mass m[i] at this point\n",
    "    Par = mechanics.RigidBody('Pa' + str(0), Gr, Ar, m[0], (Inertia_r,Gr))\n",
    "    particles.append(Par)\n",
    "    \n",
    "    # Add an internal spring based on Euler-Bernoulli Beam theory\n",
    "    forces.append((Ar, -stiffness * (q[0]) / (l[0]) * Ar.z))\n",
    "    \n",
    "    # Add a damping term\n",
    "    forces.append((Ar, (-damp * u[0]) * Ar.z))\n",
    "    \n",
    "    # Add a new ODE term\n",
    "    kinetic_odes.append(q[0].diff(t) - u[0])\n",
    "    \n",
    "    P = Pr\n",
    "    \n",
    "    for i in range(1,n):\n",
    "        \n",
    "        # Create a reference frame following the i^th link\n",
    "        Ai = A.orientnew('A' + str(i), 'Axis', [q[i],Ar.z])\n",
    "        Ai.set_ang_vel(A, u[i] * Ai.z)\n",
    "        \n",
    "        # Set the center of gravity for this link\n",
    "        Gi = P.locatenew('G' + str(i),l[i] / 2 * Ai.x)\n",
    "        Gi.v2pt_theory(P,A,Ai)\n",
    "\n",
    "        # Create a point in this reference frame\n",
    "        Pi = P.locatenew('P' + str(i), l[i] * Ai.x)\n",
    "        Pi.v2pt_theory(P, A, Ai)\n",
    "        \n",
    "        # Set the inertia for this link\n",
    "        Inertia_i = inertia(Ai,0,0,m[i] * l[i]**2 / 12)\n",
    "\n",
    "        # Create a new particle of mass m[i] at this point\n",
    "        Pai = mechanics.RigidBody('Pa' + str(i), Gi, Ai, m[i], (Inertia_i,Gi))\n",
    "        particles.append(Pai)\n",
    "        \n",
    "        # The external torques influence neighboring links\n",
    "        if i + 1 < n:\n",
    "            next_torque = 0\n",
    "            for j in range(i,n):\n",
    "                next_torque += Torque[j]\n",
    "        else:\n",
    "            next_torque = 0.\n",
    "        forces.append((Ai,(Torque[i] + next_torque) * Ai.z))\n",
    "        \n",
    "        # Add another internal spring\n",
    "        forces.append((Ai, (-stiffness * (q[i] - q[i-1]) / (2 * l[i])) * Ai.z))\n",
    "        \n",
    "        # Add the damping term\n",
    "        forces.append((Ai, (-damp * u[i]) * Ai.z))\n",
    "\n",
    "        kinetic_odes.append(q[i].diff(t) - u[i])\n",
    "\n",
    "        P = Pi\n",
    "    \n",
    "    # Add the user-defined input at the tip of the catheter, pointing normal to the \n",
    "    # last element\n",
    "    forces.append((P, F_in[0] * Ai.y))\n",
    "\n",
    "    # Generate equations of motion\n",
    "    KM = mechanics.KanesMethod(A, q_ind=q, u_ind=u,\n",
    "                               kd_eqs=kinetic_odes)\n",
    "    fr, fr_star = KM.kanes_equations(forces, particles)\n",
    "\n",
    "    return KM, fr, fr_star, q, u, Torque, F_in, l, m"
   ]
  },
  {
   "cell_type": "code",
   "execution_count": 7,
   "metadata": {
    "collapsed": true
   },
   "outputs": [],
   "source": [
    "def linearize_system(n,kane,p):\n",
    "\n",
    "    # Unpack the system values\n",
    "    M, L, E, I, G, J = p\n",
    "\n",
    "    KM, fr, fr_star, q, u, Torque, F_in, l, m = kane\n",
    "\n",
    "    lengths = np.concatenate([np.broadcast_to(L / n,n)])    \n",
    "    masses = np.concatenate([np.broadcast_to(M / n,n)])\n",
    "\n",
    "    # Fixed parameters: lengths, and masses\n",
    "    parameters = list(l) + list(m)\n",
    "    parameter_vals = list(lengths) + list(masses)\n",
    "    \n",
    "    # define symbols for unknown parameters\n",
    "    unknowns = [Dummy() for i in q + u + tau + list(force_in)]\n",
    "    unknown_dict = dict(zip(q + u + tau + list(force_in), unknowns))\n",
    "    kds = KM.kindiffdict()\n",
    "\n",
    "    # substitute unknown symbols for qdot terms\n",
    "    mm_sym = KM.mass_matrix_full.subs(kds).subs(unknown_dict)\n",
    "    fo_sym = KM.forcing_full.subs(kds).subs(unknown_dict)\n",
    "\n",
    "    # create functions for numerical calculation \n",
    "    mm_func = lambdify(unknowns + parameters, mm_sym)\n",
    "    fo_func = lambdify(unknowns + parameters, fo_sym)\n",
    "\n",
    "    # This will be done outside of the for loop to speed up computation\n",
    "    linearizer = KM.to_linearizer()\n",
    "    Maz, A, B = linearizer.linearize()\n",
    "    \n",
    "    op_point = dict()\n",
    "    constants = dict()\n",
    "\n",
    "    for h in range(n):\n",
    "        op_point[q[h]] = 0.0\n",
    "        op_point[u[h]] = 0.0\n",
    "\n",
    "    for k in range(n):\n",
    "        constants[l[k]] = lengths[k]\n",
    "        constants[m[k]] = masses[k]\n",
    "    \n",
    "    M_op = me.msubs(Maz, op_point)\n",
    "    A_op = me.msubs(A, op_point)\n",
    "    B_op = me.msubs(B, op_point)\n",
    "    perm_mat = linearizer.perm_mat\n",
    "    M_op = me.msubs(M_op,constants)\n",
    "    A_op = me.msubs(A_op,constants)\n",
    "    B_op = me.msubs(B_op,constants)\n",
    "\n",
    "    A_lin = perm_mat.T * M_op.LUsolve(A_op)\n",
    "    B_lin = perm_mat.T * M_op.LUsolve(B_op)\n",
    "    A_sol = A_lin.subs(op_point).doit()\n",
    "    B_sol = B_lin.subs(op_point).doit()\n",
    "\n",
    "    A_np = np.array(np.array(A_sol), np.float)\n",
    "    B_np = np.array(np.array(B_sol), np.float)\n",
    "\n",
    "    return A_np,B_np"
   ]
  },
  {
   "cell_type": "code",
   "execution_count": 84,
   "metadata": {
    "collapsed": true
   },
   "outputs": [],
   "source": [
    "n = 7\n",
    "\n",
    "M = 1\n",
    "L = 1\n",
    "E = 10e-3\n",
    "I = 1\n",
    "G = 0.5\n",
    "J = 1\n",
    "\n",
    "\n",
    "theta0_z = 0.\n",
    "\n",
    "theta0dot_z = 0.\n",
    "\n",
    "thetad_z = 50.\n",
    "thetaddot_z = 0.\n",
    "\n",
    "tau_max = 200.\n",
    "StartTime = 0. \n",
    "dt = 0.01\n",
    "tmax = 10.\n",
    "t = np.arange(0,tmax,dt)\n",
    "\n",
    "X0 = np.array([theta0_z,theta0dot_z])\n",
    "XD = np.array([thetad_z,thetaddot_z])\n",
    "Distance = np.deg2rad(XD - X0)\n",
    "\n",
    "p = [M, L, E, I, G, J]"
   ]
  },
  {
   "cell_type": "code",
   "execution_count": 85,
   "metadata": {
    "collapsed": true
   },
   "outputs": [],
   "source": [
    "Kane = derive_sys(n,p)\n",
    "KM, fr, fr_star, q, u, tau, force_in, l, m = Kane"
   ]
  },
  {
   "cell_type": "code",
   "execution_count": 86,
   "metadata": {
    "collapsed": true
   },
   "outputs": [],
   "source": [
    "A,B = linearize_system(n,Kane,p)"
   ]
  },
  {
   "cell_type": "code",
   "execution_count": 87,
   "metadata": {
    "collapsed": true
   },
   "outputs": [],
   "source": [
    "lengths = np.concatenate([np.broadcast_to(L / n,n)])    \n",
    "masses = np.concatenate([np.broadcast_to(M / n,n)])\n",
    "\n",
    "# Fixed parameters: lengths, and masses\n",
    "parameters = list(l) + list(m)\n",
    "parameter_vals = list(lengths) + list(masses)"
   ]
  },
  {
   "cell_type": "code",
   "execution_count": 88,
   "metadata": {
    "collapsed": true
   },
   "outputs": [],
   "source": [
    "# define symbols for unknown parameters\n",
    "unknowns = [Dummy() for i in q + u + tau + list(force_in)]\n",
    "unknown_dict = dict(zip(q + u + tau + list(force_in), unknowns))\n",
    "kds = KM.kindiffdict()"
   ]
  },
  {
   "cell_type": "code",
   "execution_count": 89,
   "metadata": {
    "collapsed": true
   },
   "outputs": [],
   "source": [
    "# substitute unknown symbols for qdot terms\n",
    "mm_sym = KM.mass_matrix_full.subs(kds).subs(unknown_dict)\n",
    "fo_sym = KM.forcing_full.subs(kds).subs(unknown_dict)"
   ]
  },
  {
   "cell_type": "code",
   "execution_count": 90,
   "metadata": {
    "collapsed": true
   },
   "outputs": [],
   "source": [
    "# create functions for numerical calculation \n",
    "mm_func = lambdify(unknowns + parameters, mm_sym)\n",
    "fo_func = lambdify(unknowns + parameters, fo_sym)"
   ]
  },
  {
   "cell_type": "code",
   "execution_count": 67,
   "metadata": {
    "collapsed": true
   },
   "outputs": [],
   "source": [
    "def get_response(n,Kane,p,optimize=False,use_control=True):\n",
    "    KM, fr, fr_star, q, u, tau, force_in, l, m = Kane\n",
    "    \n",
    "    tau_max, StartTime, dt, t, X0, Distance, L = p\n",
    "   \n",
    "    q_i = np.array(X0[:n])\n",
    "    u_i = np.array(X0[n:])\n",
    "\n",
    "    # initial positions and velocities – assumed to be given in degrees\n",
    "    y0 = np.concatenate([np.tile(q_i,n),np.tile(u_i,n)])\n",
    "    \n",
    "    tau = np.zeros(n)\n",
    "    \n",
    "    y_d = craw_utils.s_curve(t,0.5,5,StartTime=0.)\n",
    "    \n",
    "    # function which computes the derivatives of parameters\n",
    "    def gradient(x, currtime, parameter_vals,t_sys,tau,force_in):\n",
    "        \n",
    "        if use_control:\n",
    "            curr_x,curr_y = get_xy_coords(n,x,L)\n",
    "            curr_x_dot,curr_y_dot = get_xy_deriv(n,x,L)\n",
    "            y_ref = np.interp(currtime,t_sys,y_d)\n",
    "            force_in[0] = 10. * (y_ref - curr_y[0,-1]) + 5 * (0 - curr_y_dot[0,-1])\n",
    "        else:\n",
    "            force_in[0] = 0.\n",
    "        \n",
    "        tau = get_forces(n,x,L,currtime)\n",
    "\n",
    "        vals = np.concatenate((x, tau, force_in, parameter_vals))\n",
    "        sol = np.linalg.solve(mm_func(*vals), fo_func(*vals))\n",
    "\n",
    "        return np.array(sol).T[0]\n",
    "\n",
    "    return odeint(gradient, y0, t, args=(parameter_vals,t,tau, force_in))"
   ]
  },
  {
   "cell_type": "code",
   "execution_count": 62,
   "metadata": {
    "collapsed": true
   },
   "outputs": [],
   "source": [
    "def linear_response(n,A,B,p,\n",
    "             Shaper='Unshaped',\n",
    "             optimize=False,motion='Step',\n",
    "             Disturbance=None,\n",
    "             use_control=True):\n",
    "    \n",
    "    tau_max, StartTime, dt, t, X0, Distance, L = p\n",
    "\n",
    "    q_i = np.array(X0[:n])\n",
    "    u_i = np.array(X0[n:])\n",
    "\n",
    "    # initial positions and velocities – assumed to be given in degrees\n",
    "    y0 = np.concatenate([np.tile(q_i,n),np.tile(u_i,n)])\n",
    "    \n",
    "    tau = np.zeros(n)\n",
    "    \n",
    "    y_d = craw_utils.s_curve(t,0.5,5,StartTime=0.)\n",
    "\n",
    "    time_now = 0.\n",
    "    \n",
    "    u = np.zeros(B.shape[1])\n",
    "\n",
    "    # function which computes the derivatives of parameters\n",
    "    def gradient(x, currtime, t_sys):\n",
    "\n",
    "        if use_control:\n",
    "            curr_x,curr_y = get_xy_coords(n,x,L)\n",
    "            curr_x_dot,curr_y_dot = get_xy_deriv(n,x,L)\n",
    "            y_ref = np.interp(currtime,t_sys,y_d)\n",
    "            u[0] = 10. * (y_ref - curr_y[0,-1]) + 5 * (0 - curr_y_dot[0,-1])\n",
    "        else:\n",
    "            u[0] = 0.\n",
    "        \n",
    "        tau = get_forces(n,x,L,currtime)\n",
    "        \n",
    "        u[1:] = tau[1:]\n",
    "       \n",
    "        sol = np.matmul(A,x) + np.matmul(B,u)#+ get_forces(n,x,L)\n",
    "        \n",
    "        #pdb.set_trace()\n",
    "\n",
    "        return np.array(sol)\n",
    "\n",
    "    return odeint(gradient, y0, t, args=((t,)))"
   ]
  },
  {
   "cell_type": "code",
   "execution_count": 138,
   "metadata": {},
   "outputs": [],
   "source": [
    "def get_mpc_response(n,A,B,p,\n",
    "             Shaper='Unshaped'):\n",
    "    tau_max, StartTime, DT, TIME, X0, Distance, L = p\n",
    "    B = np.atleast_2d(B[:,0]).T\n",
    "    \n",
    "    prediction_horizon = 20\n",
    "    prediction_dt = 0.1\n",
    "\n",
    "    prediction_time = np.arange(0,tmax + prediction_dt,prediction_dt)\n",
    "\n",
    "    num_samples = tmax / prediction_dt # Determine the number of samples in the sim time\n",
    "\n",
    "    C = np.eye(2*n)\n",
    "    D = np.zeros((2*n,1))\n",
    "\n",
    "    sys = control.ss(A, B, C, D)\n",
    "\n",
    "    # Get the number of states and inputs - for use in setting up the optimization\n",
    "    # problem\n",
    "    num_states = np.shape(A)[0] # Number of states\n",
    "    num_inputs = np.shape(B)[1] # Number of inputs\n",
    "\n",
    "\n",
    "    # Convert the system to digital. We need to use the discrete version of the \n",
    "    # system for the MPC solution\n",
    "    digital_sys = control.sample_system(sys, prediction_dt)\n",
    "\n",
    "    # Get the number of states and inputs - for use in setting up the optimization\n",
    "    # problem\n",
    "    num_states = np.shape(A)[0] # Number of states\n",
    "    num_inputs = np.shape(B)[1] # Number of inputs\n",
    "\n",
    "    Q_y = 10.\n",
    "    Q_yd = 5.\n",
    "\n",
    "    R = 0.001\n",
    "\n",
    "    # Convert the system to digital. We need to use the discrete version of the \n",
    "    # system for the MPC solution\n",
    "    digital_sys = control.sample_system(sys, prediction_dt)    \n",
    "\n",
    "    q_i = np.array(X0[:n])\n",
    "    u_i = np.array(X0[n:])\n",
    "    \n",
    "    U_max = 50.\n",
    "\n",
    "    # initial positions and velocities – assumed to be given in degrees\n",
    "    x0 = np.concatenate([np.tile(q_i,n),np.tile(u_i,n)])\n",
    "    u0 = np.array([0.])\n",
    "    \n",
    "    tau = np.zeros(n)\n",
    "    \n",
    "    #y_d = craw_utils.s_curve(t,0.5,5,StartTime=0.)   \n",
    "    \n",
    "    y_d = 0.5\n",
    "    \n",
    "    x_total = np.array([x0]).T  \n",
    "    u_total = np.zeros(1,)\n",
    "    \n",
    "    # Form the variables needed for the cvxpy solver\n",
    "    x = cvx.Variable(int(num_states), int(prediction_horizon + 1))\n",
    "    u = cvx.Variable(int(num_inputs), int(prediction_horizon))\n",
    "\n",
    "    \n",
    "    # Now, we work through the range of the simulation time. At each step, we\n",
    "    # look prediction_horizon samples into the future and optimize the input over\n",
    "    # that range of time. We then take only the first element of that sequence\n",
    "    # as the current input, then repeat.\n",
    "    for i in range(int(num_samples)):\n",
    "\n",
    "        states = []\n",
    "        for t in range(prediction_horizon):\n",
    "            cost = (Q_y * cvx.sum_squares(y_d - lengths * sum(x[:n,t+1])) + \n",
    "                    Q_yd * cvx.sum_squares(0. - lengths * sum(x[n:,t+1])) + \n",
    "                    R * cvx.sum_squares(u[:,t]))\n",
    "\n",
    "            constr = [x[:, t+1] == digital_sys.A * x[:, t] + digital_sys.B * u[:, t],\n",
    "                      cvx.norm(u[:,t], 'inf') <= U_max]\n",
    "\n",
    "            states.append(cvx.Problem(cvx.Minimize(cost), constr))\n",
    "\n",
    "        # sums problem objectives and concatenates constraints.\n",
    "        prob = sum(states)\n",
    "        prob.constraints += [x[:,0] == x0]\n",
    "        prob.solve()\n",
    "\n",
    "        u_total = np.append(u_total, u[0].value)\n",
    "        x_total = np.append(x_total,x[:,1].value,axis=1)\n",
    "\n",
    "        # Finally, save the current state as the initial condition for the next\n",
    "        x0 = np.array(x[:,1].value.A.flatten())\n",
    "        \n",
    "    sampling_multiple = prediction_dt / DT\n",
    "\n",
    "    sampling_offset = np.ones(int(sampling_multiple),)\n",
    "\n",
    "    u_newDt = np.repeat(u_total, sampling_multiple)\n",
    "    u_newDt = u_newDt[int(sampling_multiple):]\n",
    "\n",
    "    # Convert the system to digital using the faster sampling rate.\n",
    "    new_digital_sys = control.sample_system(sys, DT)\n",
    "\n",
    "    # Now, simulate the systema at the new higher sampling rate\n",
    "    t_out, y_out, x_out = control.forced_response(new_digital_sys, TIME, u_newDt)\n",
    "\n",
    "    return y_out"
   ]
  },
  {
   "cell_type": "code",
   "execution_count": 139,
   "metadata": {},
   "outputs": [],
   "source": [
    "mpc_response = get_mpc_response(n,A,B,p_response)"
   ]
  },
  {
   "cell_type": "code",
   "execution_count": 144,
   "metadata": {},
   "outputs": [
    {
     "data": {
      "image/png": "[encoded data removed]",
      "text/plain": [
       "<matplotlib.figure.Figure at 0x122c35f28>"
      ]
     },
     "metadata": {},
     "output_type": "display_data"
    }
   ],
   "source": [
    "plot.generate_plot(t,\n",
    "              np.vstack((mpc_response[:,n-1])),\n",
    "              ['Nonlinear'],\n",
    "              'Time (s)',\n",
    "              'Angle (rad)',\n",
    "              filename='x_Rotation',\n",
    "              folder='Simulations/',\n",
    "              num_col=2,legend_loc='upper center',ymax=0.5,showplot=True)"
   ]
  },
  {
   "cell_type": "code",
   "execution_count": 145,
   "metadata": {},
   "outputs": [
    {
     "ename": "ValueError",
     "evalue": "Please ensure the number of legend labels matches the number of data plots.",
     "output_type": "error",
     "traceback": [
      "\u001b[0;31m---------------------------------------------------------------------------\u001b[0m",
      "\u001b[0;31mValueError\u001b[0m                                Traceback (most recent call last)",
      "\u001b[0;32m<ipython-input-145-9f78ff3b29c7>\u001b[0m in \u001b[0;36m<module>\u001b[0;34m()\u001b[0m\n\u001b[1;32m     12\u001b[0m               \u001b[0mfilename\u001b[0m\u001b[0;34m=\u001b[0m\u001b[0;34m'x_Tip'\u001b[0m\u001b[0;34m,\u001b[0m\u001b[0;34m\u001b[0m\u001b[0m\n\u001b[1;32m     13\u001b[0m               \u001b[0mfolder\u001b[0m\u001b[0;34m=\u001b[0m\u001b[0;34m'Simulations/'\u001b[0m\u001b[0;34m,\u001b[0m\u001b[0;34m\u001b[0m\u001b[0m\n\u001b[0;32m---> 14\u001b[0;31m               num_col=2,legend_loc='upper center',ymax=0.3,showplot=True)\n\u001b[0m\u001b[1;32m     15\u001b[0m \u001b[0;34m\u001b[0m\u001b[0m\n\u001b[1;32m     16\u001b[0m plot.generate_plot(t,\n",
      "\u001b[0;32m/Users/daniel/anaconda/lib/python3.6/site-packages/crawlab_toolbox/plotting.py\u001b[0m in \u001b[0;36mgenerate_plot\u001b[0;34m(X, Y, labels, xlabel, ylabel, plot_type, ymax, ymin, xmax, xmin, tick_increment, showplot, save_plot, log_y, log_x, transparent, grid, folder, filename, num_col, legend_loc, experimental_args, xlabelpad)\u001b[0m\n\u001b[1;32m    167\u001b[0m \u001b[0;34m\u001b[0m\u001b[0m\n\u001b[1;32m    168\u001b[0m     \u001b[0;32mif\u001b[0m \u001b[0mY\u001b[0m\u001b[0;34m.\u001b[0m\u001b[0mshape\u001b[0m\u001b[0;34m[\u001b[0m\u001b[0;36m1\u001b[0m\u001b[0;34m]\u001b[0m \u001b[0;34m!=\u001b[0m \u001b[0mlen\u001b[0m\u001b[0;34m(\u001b[0m\u001b[0mlabels\u001b[0m\u001b[0;34m)\u001b[0m\u001b[0;34m:\u001b[0m\u001b[0;34m\u001b[0m\u001b[0m\n\u001b[0;32m--> 169\u001b[0;31m         \u001b[0;32mraise\u001b[0m \u001b[0mValueError\u001b[0m\u001b[0;34m(\u001b[0m\u001b[0;34m'Please ensure the number of legend labels matches the number of data plots.'\u001b[0m\u001b[0;34m)\u001b[0m\u001b[0;34m\u001b[0m\u001b[0m\n\u001b[0m\u001b[1;32m    170\u001b[0m \u001b[0;34m\u001b[0m\u001b[0m\n\u001b[1;32m    171\u001b[0m     \u001b[0;32mif\u001b[0m \u001b[0mplot_type\u001b[0m\u001b[0;34m.\u001b[0m\u001b[0mlower\u001b[0m\u001b[0;34m(\u001b[0m\u001b[0;34m)\u001b[0m \u001b[0;34m==\u001b[0m \u001b[0;34m'plot'\u001b[0m\u001b[0;34m:\u001b[0m\u001b[0;34m\u001b[0m\u001b[0m\n",
      "\u001b[0;31mValueError\u001b[0m: Please ensure the number of legend labels matches the number of data plots."
     ]
    },
    {
     "data": {
      "image/png": "[encoded data removed]",
      "text/plain": [
       "<matplotlib.figure.Figure at 0x122c35ac8>"
      ]
     },
     "metadata": {},
     "output_type": "display_data"
    }
   ],
   "source": [
    "x_mpc,y_mpc = get_xy_coords(n,mpc_response, L)\n",
    "\n",
    "x_tip_mpc = x_mpc[:,-1]\n",
    "y_tip_mpc = y_mpc[:,-1]\n",
    "\n",
    "\n",
    "plot.generate_plot(t,\n",
    "              np.vstack((x_tip_mpc)),\n",
    "              ['Controlled'],\n",
    "              'Time (s)',\n",
    "              'Position (m)',\n",
    "              filename='x_Tip',\n",
    "              folder='Simulations/',\n",
    "              num_col=2,legend_loc='upper center',ymax=0.3,showplot=True)\n",
    "\n",
    "plot.generate_plot(t,\n",
    "              np.vstack((y_tip_mpc)),\n",
    "              ['Controlled'],\n",
    "              'Time (s)',\n",
    "              'Position (m)',\n",
    "              filename='y_Tip',\n",
    "              folder='Simulations/',\n",
    "              num_col=2,legend_loc='upper center',ymax=0.3,showplot=True)"
   ]
  },
  {
   "cell_type": "code",
   "execution_count": 91,
   "metadata": {},
   "outputs": [],
   "source": [
    "p_response = [tau_max, StartTime, dt, t, X0, Distance, L]\n",
    "\n",
    "response = get_response(n,Kane,p_response)\n"
   ]
  },
  {
   "cell_type": "code",
   "execution_count": 63,
   "metadata": {},
   "outputs": [],
   "source": [
    "lin_response = linear_response(n,A,B,p_response)\n"
   ]
  },
  {
   "cell_type": "code",
   "execution_count": 81,
   "metadata": {
    "collapsed": true
   },
   "outputs": [],
   "source": [
    "uncontrolled_response = get_response(n,Kane,p_response,use_control=False)"
   ]
  },
  {
   "cell_type": "code",
   "execution_count": 142,
   "metadata": {},
   "outputs": [
    {
     "ename": "IndexError",
     "evalue": "index 6 is out of bounds for axis 1 with size 6",
     "output_type": "error",
     "traceback": [
      "\u001b[0;31m---------------------------------------------------------------------------\u001b[0m",
      "\u001b[0;31mIndexError\u001b[0m                                Traceback (most recent call last)",
      "\u001b[0;32m<ipython-input-142-6a9f2d23242d>\u001b[0m in \u001b[0;36m<module>\u001b[0;34m()\u001b[0m\n\u001b[1;32m      1\u001b[0m plot.generate_plot(t,\n\u001b[0;32m----> 2\u001b[0;31m               \u001b[0mnp\u001b[0m\u001b[0;34m.\u001b[0m\u001b[0mvstack\u001b[0m\u001b[0;34m(\u001b[0m\u001b[0;34m(\u001b[0m\u001b[0mresponse\u001b[0m\u001b[0;34m[\u001b[0m\u001b[0;34m:\u001b[0m\u001b[0;34m,\u001b[0m\u001b[0mn\u001b[0m\u001b[0;34m-\u001b[0m\u001b[0;36m1\u001b[0m\u001b[0;34m]\u001b[0m\u001b[0;34m,\u001b[0m\u001b[0mlin_response\u001b[0m\u001b[0;34m[\u001b[0m\u001b[0;34m:\u001b[0m\u001b[0;34m,\u001b[0m\u001b[0mn\u001b[0m\u001b[0;34m-\u001b[0m\u001b[0;36m1\u001b[0m\u001b[0;34m]\u001b[0m\u001b[0;34m)\u001b[0m\u001b[0;34m)\u001b[0m\u001b[0;34m,\u001b[0m\u001b[0;34m\u001b[0m\u001b[0m\n\u001b[0m\u001b[1;32m      3\u001b[0m               \u001b[0;34m[\u001b[0m\u001b[0;34m'Nonlinear'\u001b[0m\u001b[0;34m,\u001b[0m\u001b[0;34m'Linear'\u001b[0m\u001b[0;34m]\u001b[0m\u001b[0;34m,\u001b[0m\u001b[0;34m\u001b[0m\u001b[0m\n\u001b[1;32m      4\u001b[0m               \u001b[0;34m'Time (s)'\u001b[0m\u001b[0;34m,\u001b[0m\u001b[0;34m\u001b[0m\u001b[0m\n\u001b[1;32m      5\u001b[0m               \u001b[0;34m'Angle (rad)'\u001b[0m\u001b[0;34m,\u001b[0m\u001b[0;34m\u001b[0m\u001b[0m\n",
      "\u001b[0;31mIndexError\u001b[0m: index 6 is out of bounds for axis 1 with size 6"
     ]
    }
   ],
   "source": [
    "plot.generate_plot(t,\n",
    "              np.vstack((response[:,n-1],lin_response[:,n-1])),\n",
    "              ['Nonlinear','Linear'],\n",
    "              'Time (s)',\n",
    "              'Angle (rad)',\n",
    "              filename='x_Rotation',\n",
    "              folder='Simulations/',\n",
    "              num_col=2,legend_loc='upper center',ymax=0.5,showplot=True)"
   ]
  },
  {
   "cell_type": "code",
   "execution_count": 57,
   "metadata": {},
   "outputs": [
    {
     "data": {
      "image/png": "[encoded data removed]",
      "text/plain": [
       "<matplotlib.figure.Figure at 0x11f41a828>"
      ]
     },
     "metadata": {},
     "output_type": "display_data"
    },
    {
     "data": {
      "image/png": "[encoded data removed]",
      "text/plain": [
       "<matplotlib.figure.Figure at 0x11f41aef0>"
      ]
     },
     "metadata": {},
     "output_type": "display_data"
    }
   ],
   "source": [
    "x,y = get_xy_coords(n,response, L)\n",
    "x_linear,y_linear = get_xy_coords(n,lin_response, L)\n",
    "x_uncontrolled,y_uncontrolled = get_xy_coords(n,uncontrolled_response, L)\n",
    "\n",
    "x_tip = x[:,-1]\n",
    "y_tip = y[:,-1]\n",
    "\n",
    "x_tip_linear = x_linear[:,-1]\n",
    "y_tip_linear = y_linear[:,-1]\n",
    "\n",
    "\n",
    "x_tip_uncontrolled = x_uncontrolled[:,-1]\n",
    "y_tip_uncontrolled = y_uncontrolled[:,-1]\n",
    "\n",
    "plot.generate_plot(t,\n",
    "              np.vstack((x_tip_uncontrolled,x_tip_linear)),\n",
    "              ['Controlled','Linear'],\n",
    "              'Time (s)',\n",
    "              'Position (m)',\n",
    "              filename='x_Tip',\n",
    "              folder='Simulations/',\n",
    "              num_col=2,legend_loc='upper center',ymax=0.3,showplot=True)\n",
    "\n",
    "plot.generate_plot(t,\n",
    "              np.vstack((y_tip,y_tip_linear)),\n",
    "              ['Controlled','Linear'],\n",
    "              'Time (s)',\n",
    "              'Position (m)',\n",
    "              filename='y_Tip',\n",
    "              folder='Simulations/',\n",
    "              num_col=2,legend_loc='upper center',ymax=0.3,showplot=True)"
   ]
  },
  {
   "cell_type": "code",
   "execution_count": 72,
   "metadata": {
    "collapsed": true
   },
   "outputs": [],
   "source": [
    "%%capture\n",
    "fps = int(np.round(1 / dt))\n",
    "\n",
    "FFMpegWriter = writers['ffmpeg']\n",
    "\n",
    "def update_lines(num, x,y, lines):\n",
    "    lines.set_data(x[num],y[num])\n",
    "    #lines.set_3d_properties(z[num])\n",
    "    return lines\n",
    "\n",
    "# Attaching 3D axis to the figure\n",
    "fig = plt.figure()\n",
    "ax = plt.gca()\n",
    "\n",
    "lines, = ax.plot([], [], 'o-', lw=2)\n",
    "\n",
    "plt.axes().set_aspect('equal')\n",
    "data = np.array([x,y])\n",
    "\n",
    "# Setting the axes properties\n",
    "ax.set_xlim([-1, 1.0])\n",
    "ax.set_xlabel('X')\n",
    "\n",
    "ax.set_ylim([-1, 1])\n",
    "ax.set_ylabel('Y')\n",
    "\n",
    "ax.set_title('Response')\n"
   ]
  },
  {
   "cell_type": "code",
   "execution_count": 82,
   "metadata": {
    "collapsed": true
   },
   "outputs": [],
   "source": [
    "# Create the animation\n",
    "anim = animation.FuncAnimation(\n",
    "                    fig, # Use the predefined figure\n",
    "                    update_lines, # Call the update function\n",
    "                    frames=fps * int(np.amax(t)), # Use a number of frames based on the framerate and length of the time array\n",
    "                    interval=fps,\n",
    "                    fargs = (x,y,lines),\n",
    "                    blit=False)\n",
    "\n",
    "# We can also add some metadata to the video.\n",
    "metadata = dict(title='Input Shaping Animation', artist='CRAWLAB',\n",
    "                comment='Shows a point-to-poitn move of a planar crane with and without input shaping.')\n",
    "\n",
    "# Change the video bitrate as you like and add some metadata.\n",
    "writer = FFMpegWriter(codec=\"h264\", fps=fps, bitrate=-1, metadata=metadata)\n",
    "\n",
    "anim.save(\n",
    "    'animation.mp4', # Set the file name\n",
    "    dpi=240,          # Bump up to 4K resolution 3840x2160\n",
    "    writer=writer,\n",
    "    savefig_kwargs={\n",
    "                'transparent': False, # h264 doesn't seem to like transparency \n",
    "                'facecolor': 'none'})"
   ]
  },
  {
   "cell_type": "code",
   "execution_count": null,
   "metadata": {
    "collapsed": true
   },
   "outputs": [],
   "source": [
    "HTML(\"\"\"\n",
    "<div align=\"middle\">\n",
    "<video width=\"80%\" controls>\n",
    "      <source src=\"animation.mp4\" type=\"video/mp4\">\n",
    "</video></div>\"\"\")"
   ]
  },
  {
   "cell_type": "code",
   "execution_count": 82,
   "metadata": {},
   "outputs": [],
   "source": [
    "x_uncontrolled,y_uncontrolled = get_xy_coords(n,uncontrolled_response, L)\n",
    "\n",
    "# Create the animation\n",
    "anim_uncontrolled = animation.FuncAnimation(\n",
    "                    fig, # Use the predefined figure\n",
    "                    update_lines, # Call the update function\n",
    "                    frames=fps * int(np.amax(t)), # Use a number of frames based on the framerate and length of the time array\n",
    "                    interval=fps,\n",
    "                    fargs = (x_uncontrolled,y_uncontrolled,lines),\n",
    "                    blit=False)\n",
    "\n",
    "# We can also add some metadata to the video.\n",
    "metadata = dict(title='Input Shaping Animation', artist='CRAWLAB',\n",
    "                comment='Shows a point-to-poitn move of a planar crane with and without input shaping.')\n",
    "\n",
    "# Change the video bitrate as you like and add some metadata.\n",
    "writer = FFMpegWriter(codec=\"h264\", fps=fps, bitrate=-1, metadata=metadata)\n",
    "\n",
    "anim_uncontrolled.save(\n",
    "    'animation-uncontrolled.mp4', # Set the file name\n",
    "    dpi=240,          # Bump up to 4K resolution 3840x2160\n",
    "    writer=writer,\n",
    "    savefig_kwargs={\n",
    "                'transparent': False, # h264 doesn't seem to like transparency \n",
    "                'facecolor': 'none'})"
   ]
  },
  {
   "cell_type": "code",
   "execution_count": 49,
   "metadata": {},
   "outputs": [
    {
     "data": {
      "text/html": [
       "\n",
       "<div align=\"middle\">\n",
       "<video width=\"80%\" controls>\n",
       "      <source src=\"animation-uncontrolled.mp4\" type=\"video/mp4\">\n",
       "</video></div>"
      ],
      "text/plain": [
       "<IPython.core.display.HTML object>"
      ]
     },
     "execution_count": 49,
     "metadata": {},
     "output_type": "execute_result"
    }
   ],
   "source": [
    "HTML(\"\"\"\n",
    "<div align=\"middle\">\n",
    "<video width=\"80%\" controls>\n",
    "      <source src=\"animation-uncontrolled.mp4\" type=\"video/mp4\">\n",
    "</video></div>\"\"\")"
   ]
  },
  {
   "cell_type": "code",
   "execution_count": 1,
   "metadata": {},
   "outputs": [
    {
     "data": {
      "text/html": [
       "<script>\n",
       "    MathJax.Hub.Config({\n",
       "                        TeX: {\n",
       "                           extensions: [\"AMSmath.js\"]\n",
       "                           },\n",
       "                tex2jax: {\n",
       "                    inlineMath: [ ['$','$'], [\"\\\\(\",\"\\\\)\"] ],\n",
       "                    displayMath: [ ['$$','$$'], [\"\\\\[\",\"\\\\]\"] ]\n",
       "                },\n",
       "                displayAlign: 'center', // Change this to 'center' to center equations.\n",
       "                \"HTML-CSS\": {\n",
       "                    styles: {'.MathJax_Display': {\"margin\": 4}}\n",
       "                }\n",
       "        });\n",
       "</script>\n",
       "\n",
       "<style>\n",
       "    @font-face {\n",
       "        font-family: \"Computer Modern\";\n",
       "        src: url('http://mirrors.ctan.org/fonts/cm-unicode/fonts/otf/cmunss.otf');\n",
       "    }\n",
       "    @font-face {\n",
       "        font-family: \"Computer Modern\";\n",
       "        src: url('http://mirrors.ctan.org/fonts/cm-unicode/fonts/otf/cmunsx.otf');\n",
       "        font-weight: bold;\n",
       "    }\n",
       "    @font-face {\n",
       "        font-family: \"Computer Modern\";\n",
       "        src: url('http://mirrors.ctan.org/fonts/cm-unicode/fonts/otf/cmunsi.otf');\n",
       "        font-style: oblique;\n",
       "    }\n",
       "    @font-face {\n",
       "        font-family: \"Computer Modern\";\n",
       "        src: url('http://mirrors.ctan.org/fonts/cm-unicode/fonts/otf/cmunso.otf');\n",
       "        font-weight: bold;\n",
       "        font-style: oblique;\n",
       "    }\n",
       "\n",
       "    div.cell {\n",
       "        max-width: 1100px;\n",
       "    }\n",
       "    \n",
       "    h1 {\n",
       "        font-family: Computer Modern;\n",
       "    }\n",
       "    \n",
       "    h4 {\n",
       "        margin-top: 12px;\n",
       "        margin-bottom: 3px;\n",
       "    }\n",
       "\n",
       "    div.text_cell_render {\n",
       "        font-family: Computer Modern, \"Helvetica Neue\", Arial, Helvetica, Geneva, sans-serif;\n",
       "        line-height: 145%;\n",
       "        font-size: 130%;\n",
       "        width: 100%;\n",
       "        max-width: 1100px;\n",
       "    }\n",
       "    \n",
       "    .CodeMirror {\n",
       "        font-family: \"Source Code Pro\", source-code-pro, Consolas, monospace;\n",
       "    }\n",
       "    \n",
       "    .warning {\n",
       "        color: rgb( 240, 20, 20 )\n",
       "    }  \n",
       "  \n",
       "   \n",
       "    hr.style-end {\n",
       "        border: 0px !important;\n",
       "        height: 1px !important;\n",
       "        text-align: center !important;\n",
       "        background: #333 !important;\n",
       "        background-image: -webkit-linear-gradient(left, #ccc, #333, #ccc) !important; \n",
       "        background-image:    -moz-linear-gradient(left, #ccc, #333, #ccc) !important; \n",
       "        background-image:     -ms-linear-gradient(left, #ccc, #333, #ccc) !important; \n",
       "        background-image:      -o-linear-gradient(left, #ccc, #333, #ccc) !important; \n",
       "    }\n",
       "\n",
       "    hr.style-end:after {\n",
       "        content: &#x269C !important;\n",
       "        left: 50% !important;\n",
       "        position: absolute !important;\n",
       "        /* Controls the whitespace around the symbol */\n",
       "        padding: 0px !important;\n",
       "        background: #fff !important;\n",
       "    }\n",
       "    .output_png {\n",
       "        display: table-cell;\n",
       "        text-align: center;\n",
       "        vertical-align: middle;\n",
       "    }\n",
       "    .ui-wrapper {\n",
       "        margin-left: auto !important;\n",
       "        margin-right: auto !important;\n",
       "    }    \n",
       "/*  Center figures, etc\n",
       "\n",
       "*/\n",
       "    \n",
       "</style>"
      ],
      "text/plain": [
       "<IPython.core.display.HTML object>"
      ]
     },
     "execution_count": 1,
     "metadata": {},
     "output_type": "execute_result"
    }
   ],
   "source": [
    "# This cell will just improve the styling of the notebook\n",
    "from IPython.core.display import HTML\n",
    "import urllib.request\n",
    "response = urllib.request.urlopen(\"https://raw.githubusercontent.com/danielnewman09/Thesis-Notebooks/master/Styling/IpythonNotebook.css\")\n",
    "HTML(response.read().decode(\"utf-8\"))"
   ]
  },
  {
   "cell_type": "code",
   "execution_count": null,
   "metadata": {
    "collapsed": true
   },
   "outputs": [],
   "source": []
  },
  {
   "cell_type": "code",
   "execution_count": null,
   "metadata": {
    "collapsed": true
   },
   "outputs": [],
   "source": []
  }
 ],
 "metadata": {
  "kernelspec": {
   "display_name": "Python 3",
   "language": "python",
   "name": "python3"
  },
  "language_info": {
   "codemirror_mode": {
    "name": "ipython",
    "version": 3
   },
   "file_extension": ".py",
   "mimetype": "text/x-python",
   "name": "python",
   "nbconvert_exporter": "python",
   "pygments_lexer": "ipython3",
   "version": "3.6.1"
  }
 },
 "nbformat": 4,
 "nbformat_minor": 2
}
